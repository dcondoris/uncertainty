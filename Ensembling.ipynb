{
 "cells": [
  {
   "cell_type": "code",
   "execution_count": 1,
   "id": "7787c82c",
   "metadata": {},
   "outputs": [],
   "source": [
    "import os, os.path\n",
    "import numpy as np\n",
    "import math\n",
    "import torch\n",
    "import torchvision\n",
    "import torchvision.models as models\n",
    "import torch.backends.cudnn as cudnn\n",
    "import torch.nn.functional as F\n",
    "import matplotlib.pyplot as plt\n",
    "import dirichlet\n",
    "from tqdm import tqdm\n",
    "from time import time\n",
    "from torchvision import datasets, transforms\n",
    "from torch import nn, optim\n",
    "from torch.nn.utils import clip_grad_norm_\n",
    "from torch.optim.lr_scheduler import LambdaLR\n",
    "from sklearn import metrics\n",
    "from torch.distributions import Dirichlet\n",
    "from torch.distributions.kl import _kl_dirichlet_dirichlet\n",
    "from scipy.special import digamma\n",
    "from scipy.stats import entropy"
   ]
  },
  {
   "cell_type": "code",
   "execution_count": 2,
   "id": "e89a8028",
   "metadata": {},
   "outputs": [
    {
     "data": {
      "text/plain": [
       "True"
      ]
     },
     "execution_count": 2,
     "metadata": {},
     "output_type": "execute_result"
    }
   ],
   "source": [
    "torch.cuda.is_available()"
   ]
  },
  {
   "cell_type": "code",
   "execution_count": 3,
   "id": "17f6bad8",
   "metadata": {},
   "outputs": [],
   "source": [
    "normalize = transforms.Normalize(mean=[0.4914, 0.4822, 0.4465], std=[0.2023, 0.1994, 0.2010])"
   ]
  },
  {
   "cell_type": "code",
   "execution_count": 4,
   "id": "f67e4860",
   "metadata": {},
   "outputs": [
    {
     "name": "stdout",
     "output_type": "stream",
     "text": [
      "Files already downloaded and verified\n",
      "Files already downloaded and verified\n"
     ]
    }
   ],
   "source": [
    "trainset = datasets.CIFAR10('cifar10', download=True, train=True, transform=transforms.Compose([\n",
    "            transforms.RandomHorizontalFlip(),\n",
    "            transforms.RandomCrop(32, 4, padding_mode='reflect'),\n",
    "            transforms.ToTensor(),\n",
    "            normalize,\n",
    "        ]))\n",
    "\n",
    "trainloader = torch.utils.data.DataLoader(trainset, batch_size=128, shuffle=True, num_workers=4)\n",
    "\n",
    "testset = datasets.CIFAR10('cifar10', download=True, train=False, transform=transforms.Compose([\n",
    "            transforms.RandomHorizontalFlip(),\n",
    "            transforms.RandomCrop(32, 4, padding_mode='reflect'),\n",
    "            transforms.ToTensor(),\n",
    "            normalize,\n",
    "        ]))\n",
    "\n",
    "testloader = torch.utils.data.DataLoader(testset, batch_size=128, shuffle=False, num_workers=4)"
   ]
  },
  {
   "cell_type": "code",
   "execution_count": 5,
   "id": "bf24a93b",
   "metadata": {},
   "outputs": [
    {
     "name": "stdout",
     "output_type": "stream",
     "text": [
      "Files already downloaded and verified\n"
     ]
    }
   ],
   "source": [
    "oodset1 = datasets.CIFAR100('cifar100', download=True, train=False, transform=transforms.Compose([\n",
    "            transforms.RandomHorizontalFlip(),\n",
    "            transforms.RandomCrop(32, 4, padding_mode='reflect'),\n",
    "            transforms.ToTensor(),\n",
    "            normalize,\n",
    "        ]))\n",
    "oodloader1 = torch.utils.data.DataLoader(oodset1, batch_size=128, shuffle=False, num_workers=4)"
   ]
  },
  {
   "cell_type": "code",
   "execution_count": 6,
   "id": "73be938d",
   "metadata": {},
   "outputs": [],
   "source": [
    "oodset2 = datasets.ImageFolder(root='images/', transform=transforms.Compose([\n",
    "            transforms.Resize(32),\n",
    "            transforms.RandomHorizontalFlip(),\n",
    "            transforms.RandomCrop(32, 4, padding_mode='reflect'),\n",
    "            transforms.ToTensor(),\n",
    "            normalize,\n",
    "        ]))\n",
    "\n",
    "oodloader2 = torch.utils.data.DataLoader(oodset2, batch_size=128, shuffle=False, num_workers=4)"
   ]
  },
  {
   "cell_type": "code",
   "execution_count": 7,
   "id": "70582a28",
   "metadata": {},
   "outputs": [],
   "source": [
    "class VGGNet(nn.Module):\n",
    "    def __init__(self, num_classes):\n",
    "        super(VGGNet, self).__init__()\n",
    "        self.features = nn.Sequential(\n",
    "            nn.Conv2d(3, 64, 3, padding=1, padding_mode='reflect'),    # Conv1\n",
    "            nn.ReLU(True),                     # ReLU1\n",
    "            nn.BatchNorm2d(64),                 # BatchNorm1\n",
    "            nn.Dropout(0.3),                     # Dropout1\n",
    "            nn.Conv2d(64, 64, 3, padding=1, padding_mode='reflect'),   # Conv2\n",
    "            nn.ReLU(True),                     # ReLU2\n",
    "            nn.BatchNorm2d(64),                 # BatchNorm2\n",
    "            nn.MaxPool2d(2),                  # MaxPool2\n",
    "            nn.Conv2d(64, 128, 3, padding=1, padding_mode='reflect'),  # Conv3\n",
    "            nn.ReLU(True),                     # ReLU3\n",
    "            nn.BatchNorm2d(128),                # BatchNorm3\n",
    "            nn.Dropout(0.4),                     # Dropout3\n",
    "            nn.Conv2d(128, 128, 3, padding=1, padding_mode='reflect'), # Conv4\n",
    "            nn.ReLU(True),                     # ReLU4\n",
    "            nn.BatchNorm2d(128),                # BatchNorm4\n",
    "            nn.MaxPool2d(2),                  # MaxPool4\n",
    "            nn.Conv2d(128, 256, 3, padding=1, padding_mode='reflect'), # Conv5\n",
    "            nn.ReLU(True),                     # ReLU5\n",
    "            nn.BatchNorm2d(256),                # BatchNorm5\n",
    "            nn.Dropout(0.4),                     # Dropout5\n",
    "            nn.Conv2d(256, 256, 3, padding=1, padding_mode='reflect'), # Conv6\n",
    "            nn.ReLU(True),                     # ReLU6\n",
    "            nn.BatchNorm2d(256),                # BatchNorm6\n",
    "            nn.Dropout(0.4),                     # Dropout6\n",
    "            nn.Conv2d(256, 256, 3, padding=1, padding_mode='reflect'), # Conv7\n",
    "            nn.ReLU(True),                     # ReLU7\n",
    "            nn.BatchNorm2d(256),                # BatchNorm7\n",
    "            nn.MaxPool2d(2),                  # MaxPool7\n",
    "            nn.Conv2d(256, 512, 3, padding=1, padding_mode='reflect'), # Conv8\n",
    "            nn.ReLU(True),                     # ReLU8\n",
    "            nn.BatchNorm2d(512),                # BatchNorm8\n",
    "            nn.Dropout(0.4),                     # Dropout8\n",
    "            nn.Conv2d(512, 512, 3, padding=1, padding_mode='reflect'), # Conv9\n",
    "            nn.ReLU(True),                     # ReLU9\n",
    "            nn.BatchNorm2d(512),                # BatchNorm9\n",
    "            nn.Dropout(0.4),                     # Dropout9\n",
    "            nn.Conv2d(512, 512, 3, padding=1, padding_mode='reflect'), # Conv10\n",
    "            nn.ReLU(True),                     # ReLU10\n",
    "            nn.BatchNorm2d(512),                # BatchNorm10\n",
    "            nn.MaxPool2d(2),                  # MaxPool10\n",
    "            nn.Conv2d(512, 512, 3, padding=1, padding_mode='reflect'), # Conv11\n",
    "            nn.ReLU(True),                     # ReLU11\n",
    "            nn.BatchNorm2d(512),                # BatchNorm11\n",
    "            nn.Dropout(0.4),                     # Dropout11\n",
    "            nn.Conv2d(512, 512, 3, padding=1, padding_mode='reflect'), # Conv12\n",
    "            nn.ReLU(True),                     # ReLU12\n",
    "            nn.BatchNorm2d(512),                # BatchNorm12\n",
    "            nn.Dropout(0.4),                     # Dropout12\n",
    "            nn.Conv2d(512, 512, 3, padding=1, padding_mode='reflect'), # Conv13\n",
    "            nn.ReLU(True),                     # ReLU13\n",
    "            nn.BatchNorm2d(512),                # BatchNorm13\n",
    "            nn.MaxPool2d(2),                  # MaxPool13\n",
    "            nn.Dropout(p=0.5),                                         # EndDropout\n",
    "        )\n",
    "        self.classifier = nn.Sequential(\n",
    "            nn.Linear(512, 512),\n",
    "            nn.ReLU(True),\n",
    "            nn.Dropout(p=0.5),\n",
    "            nn.Linear(512, num_classes),\n",
    "        )\n",
    "            \n",
    "    def forward(self, x):\n",
    "        x = self.features(x)\n",
    "        x = x.view(x.size(0), -1)\n",
    "        x = self.classifier(x)\n",
    "        return x"
   ]
  },
  {
   "cell_type": "code",
   "execution_count": 8,
   "id": "093a39a9",
   "metadata": {},
   "outputs": [],
   "source": [
    "beta = 100"
   ]
  },
  {
   "cell_type": "code",
   "execution_count": 9,
   "id": "f8e8d036",
   "metadata": {},
   "outputs": [],
   "source": [
    "def kl_div_dirichlet(a_concentrations, b_concentrations):\n",
    "    a_dirichlet = Dirichlet(a_concentrations)\n",
    "    b_dirichlet = Dirichlet(b_concentrations)\n",
    "    return _kl_dirichlet_dirichlet(p=a_dirichlet, q=b_dirichlet)\n",
    "def RKL_loss(outputs, labels):\n",
    "    alphas = torch.exp(outputs)\n",
    "    alpha_0 = torch.sum(alphas, dim=1)\n",
    "    y_onehot_target = torch.eye(10)[labels].to(device)\n",
    "    alpha_y = (alphas * y_onehot_target).sum(dim=1)\n",
    "    rce_loss = torch.digamma(alpha_0) - torch.digamma(alpha_y)\n",
    "    uniform_concentrations = torch.ones_like(y_onehot_target).to(device)\n",
    "    kl_uniform_reg = kl_div_dirichlet(alphas, uniform_concentrations)\n",
    "    kl_uniform_reg = torch.clamp(kl_uniform_reg, 0, 1000)  \n",
    "    loss = rce_loss + 1/beta * kl_uniform_reg\n",
    "    return torch.mean(loss)"
   ]
  },
  {
   "cell_type": "code",
   "execution_count": 10,
   "id": "6a035db1",
   "metadata": {},
   "outputs": [],
   "source": [
    "device = 'cuda'"
   ]
  },
  {
   "cell_type": "code",
   "execution_count": 11,
   "id": "e98781a2",
   "metadata": {},
   "outputs": [],
   "source": [
    "m_number = len([name for name in os.listdir('Models'+str(beta))])"
   ]
  },
  {
   "cell_type": "code",
   "execution_count": 12,
   "id": "93eaafb9",
   "metadata": {},
   "outputs": [],
   "source": [
    "models = [VGGNet(10) for _i in range(m_number)]\n",
    "models = [torch.nn.DataParallel(model.to(device)) for model in models]\n",
    "cudnn.benchmark = True"
   ]
  },
  {
   "cell_type": "code",
   "execution_count": 13,
   "id": "de3ba006",
   "metadata": {},
   "outputs": [],
   "source": [
    "for i in range(m_number):\n",
    "    models[i].load_state_dict(torch.load('Models'+str(beta)+'/'+str(i)))\n",
    "    models[i].eval()"
   ]
  },
  {
   "cell_type": "code",
   "execution_count": 14,
   "id": "86993e56",
   "metadata": {},
   "outputs": [],
   "source": [
    "outputs_test = [[] for _i in range(m_number)]\n",
    "outputs_ood1 = [[] for _i in range(m_number)]\n",
    "outputs_ood2 = [[] for _i in range(m_number)]\n",
    "labs = np.array([])"
   ]
  },
  {
   "cell_type": "code",
   "execution_count": 15,
   "id": "b96bc848",
   "metadata": {},
   "outputs": [
    {
     "name": "stderr",
     "output_type": "stream",
     "text": [
      "C:\\Users\\Dimit\\anaconda3\\envs\\CNAM\\lib\\site-packages\\torch\\nn\\functional.py:718: UserWarning: Named tensors and all their associated APIs are an experimental feature and subject to change. Please do not use them for anything important until they are released as stable. (Triggered internally at  ..\\c10/core/TensorImpl.h:1156.)\n",
      "  return torch.max_pool2d(input, kernel_size, stride, padding, dilation, ceil_mode)\n"
     ]
    }
   ],
   "source": [
    "with torch.no_grad():\n",
    "    for data in testloader:\n",
    "        images, labels = data\n",
    "        images, labels = images.to(device), labels.to(device)\n",
    "        labs = np.concatenate((labs, labels.cpu().numpy()))\n",
    "        for i in range(m_number):\n",
    "            output = models[i](images)\n",
    "            outputs_test[i].append(output.cpu().numpy())"
   ]
  },
  {
   "cell_type": "code",
   "execution_count": 16,
   "id": "f075a57b",
   "metadata": {},
   "outputs": [],
   "source": [
    "with torch.no_grad():\n",
    "    for data_ood1 in oodloader1:\n",
    "        images_ood1, labels_ood1 = data_ood1\n",
    "        for i in range(m_number):\n",
    "            output_ood1 = models[i](images_ood1)\n",
    "            outputs_ood1[i].append(output_ood1.cpu().numpy())"
   ]
  },
  {
   "cell_type": "code",
   "execution_count": 17,
   "id": "7afc985b",
   "metadata": {},
   "outputs": [],
   "source": [
    "with torch.no_grad():\n",
    "    for data_ood2 in oodloader2:\n",
    "        images_ood2, labels_ood2 = data_ood2\n",
    "        for i in range(m_number):\n",
    "            output_ood2 = models[i](images_ood2)\n",
    "            outputs_ood2[i].append(output_ood2.cpu().numpy())"
   ]
  },
  {
   "cell_type": "code",
   "execution_count": 18,
   "id": "751fd056",
   "metadata": {},
   "outputs": [],
   "source": [
    "for i in range(m_number):\n",
    "    outputs_test[i] = np.exp(np.concatenate(outputs_test[i]))\n",
    "\n",
    "for i in range(m_number):\n",
    "    outputs_ood1[i] = np.exp(np.concatenate(outputs_ood1[i]))\n",
    "\n",
    "for i in range(m_number):\n",
    "    outputs_ood2[i] = np.exp(np.concatenate(outputs_ood2[i]))"
   ]
  },
  {
   "cell_type": "code",
   "execution_count": 19,
   "id": "0edb9c97",
   "metadata": {},
   "outputs": [],
   "source": [
    "def ensemble_output(outputs):\n",
    "    mean_output = np.zeros(outputs[0].shape)\n",
    "    for i in tqdm(range(outputs[0].shape[0])):\n",
    "        samples = np.concatenate([np.random.dirichlet(output[i], 100) for output in outputs])\n",
    "        mean_output[i] = dirichlet.mle(samples)\n",
    "    return(mean_output)"
   ]
  },
  {
   "cell_type": "code",
   "execution_count": 20,
   "id": "4e81fb1c",
   "metadata": {},
   "outputs": [
    {
     "name": "stderr",
     "output_type": "stream",
     "text": [
      "100%|██████████| 10000/10000 [02:46<00:00, 60.10it/s]\n",
      "100%|██████████| 10000/10000 [05:47<00:00, 28.76it/s]\n",
      "100%|██████████| 10000/10000 [05:34<00:00, 29.89it/s]\n"
     ]
    }
   ],
   "source": [
    "ensemble_outputs_test = ensemble_output(outputs_test)\n",
    "ensemble_outputs_ood1 = ensemble_output(outputs_ood1)\n",
    "ensemble_outputs_ood2 = ensemble_output(outputs_ood2)"
   ]
  },
  {
   "cell_type": "code",
   "execution_count": 21,
   "id": "a8757644",
   "metadata": {},
   "outputs": [],
   "source": [
    "eot_classic = np.mean(outputs_test, axis = 0)\n",
    "eo1_classic = np.mean(outputs_ood1, axis = 0)\n",
    "eo2_classic = np.mean(outputs_ood2, axis = 0)"
   ]
  },
  {
   "cell_type": "code",
   "execution_count": 22,
   "id": "9db2773e",
   "metadata": {},
   "outputs": [
    {
     "name": "stdout",
     "output_type": "stream",
     "text": [
      "For the classic ensemble, the accuracy is: 95.0%.\n",
      "For my ensemble, the accuracy is: 95.0%.\n"
     ]
    }
   ],
   "source": [
    "def model_accuracy(outputs, labels):\n",
    "    acc = np.round(100*np.mean(np.argmax(outputs, axis = 1) == labels),1)\n",
    "    return(acc)\n",
    "\n",
    "print('For the classic ensemble, the accuracy is: ', model_accuracy(eot_classic, labs),'%.', sep ='')\n",
    "print('For my ensemble, the accuracy is: ', model_accuracy(ensemble_outputs_test, labs),'%.', sep ='')"
   ]
  },
  {
   "cell_type": "code",
   "execution_count": 23,
   "id": "7755875d",
   "metadata": {},
   "outputs": [
    {
     "name": "stdout",
     "output_type": "stream",
     "text": [
      "For the model 0, the accuracy is: 93.7%.\n",
      "For the model 1, the accuracy is: 93.7%.\n",
      "For the model 2, the accuracy is: 93.6%.\n",
      "For the model 3, the accuracy is: 93.3%.\n",
      "For the model 4, the accuracy is: 93.7%.\n",
      "For the model 5, the accuracy is: 93.7%.\n",
      "For the model 6, the accuracy is: 93.5%.\n",
      "For the model 7, the accuracy is: 93.5%.\n",
      "For the model 8, the accuracy is: 93.4%.\n",
      "For the model 9, the accuracy is: 93.5%.\n",
      "The average accuracy is: 93.6%.\n"
     ]
    },
    {
     "data": {
      "text/plain": [
       "[93.7, 93.7, 93.6, 93.3, 93.7, 93.7, 93.5, 93.5, 93.4, 93.5]"
      ]
     },
     "execution_count": 23,
     "metadata": {},
     "output_type": "execute_result"
    }
   ],
   "source": [
    "def model_accuracy_e(outputs, labels):\n",
    "    accs = []\n",
    "    for i in range(len(outputs)):\n",
    "        acc = model_accuracy(outputs[i], labels)\n",
    "        accs.append(acc)\n",
    "        print('For the model ',i,', the accuracy is: ', acc, '%.', sep = '')\n",
    "    print('The average accuracy is: ', np.round(np.mean(accs),1),'%.', sep ='')\n",
    "    return(accs)\n",
    "\n",
    "model_accuracy_e(outputs_test, labs)"
   ]
  },
  {
   "cell_type": "code",
   "execution_count": 24,
   "id": "072f569f",
   "metadata": {},
   "outputs": [],
   "source": [
    "big_outputs_ood1 = [np.concatenate((outputs_test[i], outputs_ood1[i]), axis = 0) for i in range(m_number)]\n",
    "big_outputs_ood2 = [np.concatenate((outputs_test[i], outputs_ood2[i]), axis = 0) for i in range(m_number)]\n",
    "big_eo1_classic = np.mean(big_outputs_ood1, axis = 0)\n",
    "big_eo2_classic = np.mean(big_outputs_ood2, axis = 0)\n",
    "big_eo1 = np.concatenate((ensemble_outputs_test, ensemble_outputs_ood1), axis = 0)\n",
    "big_eo2 = np.concatenate((ensemble_outputs_test, ensemble_outputs_ood2), axis = 0)"
   ]
  },
  {
   "cell_type": "code",
   "execution_count": 25,
   "id": "3ae2dca4",
   "metadata": {},
   "outputs": [],
   "source": [
    "labs_ood = np.concatenate((np.zeros(10000), np.ones(10000)))"
   ]
  },
  {
   "cell_type": "code",
   "execution_count": 26,
   "id": "553424a7",
   "metadata": {},
   "outputs": [
    {
     "name": "stdout",
     "output_type": "stream",
     "text": [
      "For the classic ensemble (mis.), the MCP is: 92.4%.\n",
      "For my ensemble (mis.), the MCP is: 92.4%.\n",
      "For the classic ensemble (OOD1.), the MCP is: 88.1%.\n",
      "For my ensemble (OOD1.), the MCP is: 88.3%.\n",
      "For the classic ensemble (OOD2.), the MCP is: 87.6%.\n",
      "For my ensemble (OOD2.), the MCP is: 87.9%.\n"
     ]
    }
   ],
   "source": [
    "def MCP(outputs, labels, ood = False):\n",
    "    probas = (outputs/np.sum(outputs, axis = 1).reshape(-1, 1))\n",
    "    miss = (1-(np.argmax(probas, axis = 1) == labels))\n",
    "    if ood:\n",
    "        miss = labels\n",
    "    fpr, tpr, thresholds = metrics.roc_curve(miss, -np.max(probas, axis = 1), pos_label=1)\n",
    "    return(np.round(100*metrics.auc(fpr, tpr), 1))\n",
    "\n",
    "print('For the classic ensemble (mis.), the MCP is: ', MCP(eot_classic, labs),'%.', sep ='')\n",
    "print('For my ensemble (mis.), the MCP is: ', MCP(ensemble_outputs_test, labs),'%.', sep ='')\n",
    "\n",
    "print('For the classic ensemble (OOD1.), the MCP is: ', MCP(big_eo1_classic, labs_ood, True),'%.', sep ='')\n",
    "print('For my ensemble (OOD1.), the MCP is: ', MCP(big_eo1, labs_ood, True),'%.', sep ='')\n",
    "\n",
    "print('For the classic ensemble (OOD2.), the MCP is: ', MCP(big_eo2_classic, labs_ood, True),'%.', sep ='')\n",
    "print('For my ensemble (OOD2.), the MCP is: ', MCP(big_eo2, labs_ood, True),'%.', sep ='')"
   ]
  },
  {
   "cell_type": "code",
   "execution_count": 27,
   "id": "13a79e06",
   "metadata": {},
   "outputs": [
    {
     "name": "stdout",
     "output_type": "stream",
     "text": [
      "Average: 87.3 \n",
      "\n",
      "Average: 81.5 \n",
      "\n",
      "Average: 81.4 \n",
      "\n"
     ]
    },
    {
     "data": {
      "text/plain": [
       "[81.4, 81.5, 81.1, 81.3, 82.1, 81.4, 80.6, 81.3, 81.6, 82.1]"
      ]
     },
     "execution_count": 27,
     "metadata": {},
     "output_type": "execute_result"
    }
   ],
   "source": [
    "def MCP_Ensemble(outputs, labels, ood = False):\n",
    "    MCPs = []\n",
    "    for i in range(len(outputs)):\n",
    "        MCP_model = MCP(outputs[i], labels, ood)\n",
    "        MCPs.append(MCP_model)\n",
    "    print('Average:',  np.round(np.mean(MCPs),1), '\\n')\n",
    "    return(MCPs)\n",
    "\n",
    "MCP_Ensemble(outputs_test, labs)\n",
    "MCP_Ensemble(big_outputs_ood1 , labs_ood, True)\n",
    "MCP_Ensemble(big_outputs_ood2, labs_ood, True)"
   ]
  },
  {
   "cell_type": "code",
   "execution_count": 28,
   "id": "cdaf0b16",
   "metadata": {},
   "outputs": [
    {
     "name": "stdout",
     "output_type": "stream",
     "text": [
      "For the classic ensemble (mis.), the Entropy is: 92.2%.\n",
      "For my ensemble (mis.), the Entropy is: 92.2%.\n",
      "For the classic ensemble (OOD1.), the Entropy is: 88.7%.\n",
      "For my ensemble (OOD1.), the Entropy is: 88.4%.\n",
      "For the classic ensemble (OOD2.), the Entropy is: 88.3%.\n",
      "For my ensemble (OOD2.), the Entropy is: 88.0%.\n"
     ]
    }
   ],
   "source": [
    "def Entropy(outputs, labels, ood = False):\n",
    "    probas = (outputs/np.sum(outputs, axis = 1).reshape(-1, 1))\n",
    "    entropies = entropy(probas, axis = 1)\n",
    "    miss = (1-(np.argmax(probas, axis = 1) == labels))\n",
    "    if ood:\n",
    "        miss = labels\n",
    "    fpr, tpr, thresholds = metrics.roc_curve(miss, entropies, pos_label=1)\n",
    "    return(np.round(100*metrics.auc(fpr, tpr), 1))\n",
    "\n",
    "print('For the classic ensemble (mis.), the Entropy is: ', Entropy(eot_classic, labs),'%.', sep ='')\n",
    "print('For my ensemble (mis.), the Entropy is: ', Entropy(ensemble_outputs_test, labs),'%.', sep ='')\n",
    "\n",
    "print('For the classic ensemble (OOD1.), the Entropy is: ', Entropy(big_eo1_classic, labs_ood, True),'%.', sep ='')\n",
    "print('For my ensemble (OOD1.), the Entropy is: ', Entropy(big_eo1, labs_ood, True),'%.', sep ='')\n",
    "\n",
    "print('For the classic ensemble (OOD2.), the Entropy is: ', Entropy(big_eo2_classic, labs_ood, True),'%.', sep ='')\n",
    "print('For my ensemble (OOD2.), the Entropy is: ', Entropy(big_eo2, labs_ood, True),'%.', sep ='')"
   ]
  },
  {
   "cell_type": "code",
   "execution_count": 29,
   "id": "127c0dff",
   "metadata": {},
   "outputs": [
    {
     "name": "stdout",
     "output_type": "stream",
     "text": [
      "Average: 86.9 \n",
      "\n",
      "Average: 81.5 \n",
      "\n",
      "Average: 81.6 \n",
      "\n"
     ]
    },
    {
     "data": {
      "text/plain": [
       "[81.5, 81.6, 81.2, 81.4, 82.3, 81.5, 80.7, 81.4, 81.7, 82.2]"
      ]
     },
     "execution_count": 29,
     "metadata": {},
     "output_type": "execute_result"
    }
   ],
   "source": [
    "def Entropy_Ensemble(outputs, labels, ood = False):\n",
    "    Entropys = []\n",
    "    for i in range(len(outputs)):\n",
    "        Entropy_model = Entropy(outputs[i], labels, ood)\n",
    "        Entropys.append(Entropy_model)\n",
    "    print('Average:',  np.round(np.mean(Entropys),1), '\\n')\n",
    "    return(Entropys)\n",
    "\n",
    "Entropy_Ensemble(outputs_test, labs)\n",
    "Entropy_Ensemble(big_outputs_ood1 , labs_ood, True)\n",
    "Entropy_Ensemble(big_outputs_ood2, labs_ood, True)"
   ]
  },
  {
   "cell_type": "code",
   "execution_count": 30,
   "id": "a9973b15",
   "metadata": {},
   "outputs": [
    {
     "name": "stdout",
     "output_type": "stream",
     "text": [
      "For the classic ensemble (mis.), the Alpha is: 79.2%.\n",
      "For my ensemble (mis.), the Alpha is: 91.4%.\n",
      "For the classic ensemble (OOD1.), the Alpha is: 81.7%.\n",
      "For my ensemble (OOD1.), the Alpha is: 87.3%.\n",
      "For the classic ensemble (OOD2.), the Alpha is: 83.3%.\n",
      "For my ensemble (OOD2.), the Alpha is: 86.8%.\n"
     ]
    }
   ],
   "source": [
    "def Alpha(outputs, labels, ood = False):\n",
    "    probas = (outputs/np.sum(outputs, axis = 1).reshape(-1, 1))\n",
    "    miss = (1-(np.argmax(probas, axis = 1) == labels))\n",
    "    Alphas = np.sum(outputs, axis = 1)\n",
    "    if ood:\n",
    "        miss = labels\n",
    "    fpr, tpr, thresholds = metrics.roc_curve(miss, -Alphas, pos_label=1)\n",
    "    return(np.round(100*metrics.auc(fpr, tpr), 1))\n",
    "\n",
    "print('For the classic ensemble (mis.), the Alpha is: ', Alpha(eot_classic, labs),'%.', sep ='')\n",
    "print('For my ensemble (mis.), the Alpha is: ', Alpha(ensemble_outputs_test, labs),'%.', sep ='')\n",
    "\n",
    "print('For the classic ensemble (OOD1.), the Alpha is: ', Alpha(big_eo1_classic, labs_ood, True),'%.', sep ='')\n",
    "print('For my ensemble (OOD1.), the Alpha is: ', Alpha(big_eo1, labs_ood, True),'%.', sep ='')\n",
    "\n",
    "print('For the classic ensemble (OOD2.), the Alpha is: ', Alpha(big_eo2_classic, labs_ood, True),'%.', sep ='')\n",
    "print('For my ensemble (OOD2.), the Alpha is: ', Alpha(big_eo2, labs_ood, True),'%.', sep ='')"
   ]
  },
  {
   "cell_type": "code",
   "execution_count": 31,
   "id": "fc7260f7",
   "metadata": {},
   "outputs": [
    {
     "name": "stdout",
     "output_type": "stream",
     "text": [
      "Average: 72.3 \n",
      "\n",
      "Average: 70.8 \n",
      "\n",
      "Average: 72.6 \n",
      "\n"
     ]
    },
    {
     "data": {
      "text/plain": [
       "[72.8, 72.2, 72.2, 71.4, 75.2, 70.5, 72.9, 71.9, 74.0, 73.3]"
      ]
     },
     "execution_count": 31,
     "metadata": {},
     "output_type": "execute_result"
    }
   ],
   "source": [
    "def Alpha_Ensemble(outputs, labels, ood = False):\n",
    "    Alphas = []\n",
    "    for i in range(len(outputs)):\n",
    "        Alpha_model = Alpha(outputs[i], labels, ood)\n",
    "        Alphas.append(Alpha_model)\n",
    "    print('Average:',  np.round(np.mean(Alphas),1), '\\n')\n",
    "    return(Alphas)\n",
    "\n",
    "Alpha_Ensemble(outputs_test, labs)\n",
    "Alpha_Ensemble(big_outputs_ood1 , labs_ood, True)\n",
    "Alpha_Ensemble(big_outputs_ood2, labs_ood, True)"
   ]
  },
  {
   "cell_type": "code",
   "execution_count": 32,
   "id": "555cdbfb",
   "metadata": {},
   "outputs": [
    {
     "name": "stdout",
     "output_type": "stream",
     "text": [
      "For the classic ensemble (mis.), the MutInfo is: 81.8%.\n",
      "For my ensemble (mis.), the MutInfo is: 91.5%.\n",
      "For the classic ensemble (OOD1.), the MutInfo is: 83.4%.\n",
      "For my ensemble (OOD1.), the MutInfo is: 87.4%.\n",
      "For the classic ensemble (OOD2.), the MutInfo is: 84.6%.\n",
      "For my ensemble (OOD2.), the MutInfo is: 87.0%.\n"
     ]
    }
   ],
   "source": [
    "def MI(outputs, labels, ood = False):\n",
    "    probas = (outputs/np.sum(outputs, axis = 1).reshape(-1, 1))\n",
    "    miss = (1-(np.argmax(probas, axis = 1) == labels))\n",
    "    Alphas = np.sum(outputs, axis = 1)\n",
    "    MutInfo = np.sum(outputs/Alphas.reshape(-1,1)*(np.log(outputs/Alphas.reshape(-1,1))\\\n",
    "                                                         -digamma(outputs+1)\\\n",
    "                                                         +digamma(Alphas.reshape(-1,1))+1), axis = 1)\n",
    "    if ood:\n",
    "        miss = labels\n",
    "    fpr, tpr, thresholds = metrics.roc_curve(miss, -MutInfo, pos_label=1)\n",
    "    return(np.round(100*metrics.auc(fpr, tpr), 1))\n",
    "\n",
    "print('For the classic ensemble (mis.), the MutInfo is: ', MI(eot_classic, labs),'%.', sep ='')\n",
    "print('For my ensemble (mis.), the MutInfo is: ', MI(ensemble_outputs_test, labs),'%.', sep ='')\n",
    "\n",
    "print('For the classic ensemble (OOD1.), the MutInfo is: ', MI(big_eo1_classic, labs_ood, True),'%.', sep ='')\n",
    "print('For my ensemble (OOD1.), the MutInfo is: ', MI(big_eo1, labs_ood, True),'%.', sep ='')\n",
    "\n",
    "print('For the classic ensemble (OOD2.), the MutInfo is: ', MI(big_eo2_classic, labs_ood, True),'%.', sep ='')\n",
    "print('For my ensemble (OOD2.), the MutInfo is: ', MI(big_eo2, labs_ood, True),'%.', sep ='')"
   ]
  },
  {
   "cell_type": "code",
   "execution_count": 33,
   "id": "a8b1ae35",
   "metadata": {},
   "outputs": [
    {
     "name": "stdout",
     "output_type": "stream",
     "text": [
      "Average: 73.8 \n",
      "\n",
      "Average: 71.9 \n",
      "\n",
      "Average: 73.6 \n",
      "\n"
     ]
    },
    {
     "data": {
      "text/plain": [
       "[73.7, 73.3, 73.1, 72.4, 76.1, 71.7, 73.8, 72.9, 74.9, 74.3]"
      ]
     },
     "execution_count": 33,
     "metadata": {},
     "output_type": "execute_result"
    }
   ],
   "source": [
    "def MI_Ensemble(outputs, labels, ood = False):\n",
    "    MIs = []\n",
    "    for i in range(len(outputs)):\n",
    "        MI_model = MI(outputs[i], labels, ood)\n",
    "        MIs.append(MI_model)\n",
    "    print('Average:',  np.round(np.mean(MIs),1), '\\n')\n",
    "    return(MIs)\n",
    "\n",
    "MI_Ensemble(outputs_test, labs)\n",
    "MI_Ensemble(big_outputs_ood1 , labs_ood, True)\n",
    "MI_Ensemble(big_outputs_ood2, labs_ood, True)"
   ]
  },
  {
   "cell_type": "code",
   "execution_count": 34,
   "id": "db9fb565",
   "metadata": {},
   "outputs": [
    {
     "name": "stdout",
     "output_type": "stream",
     "text": [
      "For the classic ensemble (mis.), the KLoS is: 93.8%.\n",
      "For my ensemble (mis.), the KLoS is: 93.6%.\n",
      "For the classic ensemble (OOD1.), the KLoS is: 89.3%.\n",
      "For my ensemble (OOD1.), the KLoS is: 89.4%.\n",
      "For the classic ensemble (OOD2.), the KLoS is: 88.7%.\n",
      "For my ensemble (OOD2.), the KLoS is: 88.9%.\n"
     ]
    }
   ],
   "source": [
    "def KLoS(outputs, labels, ood = False):\n",
    "    probas = (outputs/np.sum(outputs, axis = 1).reshape(-1, 1))\n",
    "    miss = (1-(np.argmax(probas, axis = 1) == labels))\n",
    "    predicted_labs = np.argmax(probas, axis = 1)\n",
    "    pred_dists = beta*np.eye(10)[predicted_labs.astype('int')]+1\n",
    "    KLoSs = kl_div_dirichlet(torch.tensor(outputs), torch.tensor(pred_dists))\n",
    "    if ood:\n",
    "        miss = labels\n",
    "    fpr, tpr, thresholds = metrics.roc_curve(miss, KLoSs, pos_label=1)\n",
    "    return(np.round(100*metrics.auc(fpr, tpr), 1))\n",
    "\n",
    "print('For the classic ensemble (mis.), the KLoS is: ', KLoS(eot_classic, labs),'%.', sep ='')\n",
    "print('For my ensemble (mis.), the KLoS is: ', KLoS(ensemble_outputs_test, labs),'%.', sep ='')\n",
    "\n",
    "print('For the classic ensemble (OOD1.), the KLoS is: ', KLoS(big_eo1_classic, labs_ood, True),'%.', sep ='')\n",
    "print('For my ensemble (OOD1.), the KLoS is: ', KLoS(big_eo1, labs_ood, True),'%.', sep ='')\n",
    "\n",
    "print('For the classic ensemble (OOD2.), the KLoS is: ', KLoS(big_eo2_classic, labs_ood, True),'%.', sep ='')\n",
    "print('For my ensemble (OOD2.), the KLoS is: ', KLoS(big_eo2, labs_ood, True),'%.', sep ='')"
   ]
  },
  {
   "cell_type": "code",
   "execution_count": 35,
   "id": "cf16ace1",
   "metadata": {},
   "outputs": [
    {
     "name": "stdout",
     "output_type": "stream",
     "text": [
      "Average: 92.2 \n",
      "\n",
      "Average: 86.4 \n",
      "\n",
      "Average: 86.0 \n",
      "\n"
     ]
    },
    {
     "data": {
      "text/plain": [
       "[86.2, 85.4, 86.0, 85.6, 86.3, 85.9, 85.5, 86.2, 86.4, 86.1]"
      ]
     },
     "execution_count": 35,
     "metadata": {},
     "output_type": "execute_result"
    }
   ],
   "source": [
    "def KLoS_Ensemble(outputs, labels, ood = False):\n",
    "    KLoSs = []\n",
    "    for i in range(len(outputs)):\n",
    "        KLoS_model = KLoS(outputs[i], labels, ood)\n",
    "        KLoSs.append(KLoS_model)\n",
    "    print('Average:',  np.round(np.mean(KLoSs),1), '\\n')\n",
    "    return(KLoSs)\n",
    "\n",
    "KLoS_Ensemble(outputs_test, labs)\n",
    "KLoS_Ensemble(big_outputs_ood1 , labs_ood, True)\n",
    "KLoS_Ensemble(big_outputs_ood2, labs_ood, True)"
   ]
  },
  {
   "cell_type": "code",
   "execution_count": 36,
   "id": "764aabcd",
   "metadata": {},
   "outputs": [],
   "source": [
    "def MCP_double(outputs, oods, labels):\n",
    "    probas = (outputs/np.sum(outputs, axis = 1).reshape(-1, 1))\n",
    "    miss = (1-(np.argmax(probas, axis = 1) == labels))\n",
    "    miss_index = [index for index in range(outputs.shape[0]) if miss[index] == 1]\n",
    "    miss_need = 10000-len(miss_index)\n",
    "    miss_choice = miss_need//len(miss_index)\n",
    "    if miss_choice > 0:\n",
    "        new_outputs = outputs.copy()\n",
    "        for i in miss_index:\n",
    "            new_outputs = np.concatenate((outputs, np.repeat(outputs[miss_index], miss_choice, axis = 0)), axis = 0)\n",
    "        new_outputs = np.concatenate((new_outputs, oods), axis = 0)\n",
    "        new_miss = np.concatenate((miss, np.ones(oods.shape[0]+len(miss_index)*miss_choice)))\n",
    "        new_probas = (new_outputs/np.sum(new_outputs, axis = 1).reshape(-1, 1))\n",
    "        fpr, tpr, thresholds = metrics.roc_curve(new_miss, -np.max(new_probas, axis = 1), pos_label=1)\n",
    "        return(np.round(100*metrics.auc(fpr, tpr), 1))\n",
    "    else:\n",
    "        print('Unexpected distribution...')\n",
    "        return()"
   ]
  },
  {
   "cell_type": "code",
   "execution_count": 37,
   "id": "03afe575",
   "metadata": {},
   "outputs": [
    {
     "name": "stdout",
     "output_type": "stream",
     "text": [
      "91.3\n",
      "91.0\n",
      "91.4\n",
      "91.1\n"
     ]
    }
   ],
   "source": [
    "print(MCP_double(eot_classic, eo1_classic, labs))\n",
    "print(MCP_double(eot_classic, eo2_classic, labs))\n",
    "print(MCP_double(ensemble_outputs_test, ensemble_outputs_ood1, labs))\n",
    "print(MCP_double(ensemble_outputs_test, ensemble_outputs_ood2, labs))"
   ]
  },
  {
   "cell_type": "code",
   "execution_count": 38,
   "id": "864d680f",
   "metadata": {},
   "outputs": [],
   "source": [
    "def MCP_double_ensemble(outputs, oods, labels):\n",
    "    MCPs = []\n",
    "    for i in range(len(outputs)):\n",
    "        MCP_model = MCP_double(outputs[i], oods[i], labels)\n",
    "        MCPs.append(MCP_model)\n",
    "    print('Average:',  np.round(np.mean(MCPs),1), '\\n')\n",
    "    return(MCPs)"
   ]
  },
  {
   "cell_type": "code",
   "execution_count": 39,
   "id": "ab0346f2",
   "metadata": {},
   "outputs": [
    {
     "name": "stdout",
     "output_type": "stream",
     "text": [
      "Average: 85.6 \n",
      "\n",
      "[85.1, 85.0, 85.6, 86.1, 85.7, 85.7, 85.9, 85.6, 85.7, 85.5]\n",
      "Average: 85.5 \n",
      "\n",
      "[85.0, 85.0, 85.6, 86.1, 85.6, 85.6, 85.6, 85.3, 85.8, 85.8]\n"
     ]
    }
   ],
   "source": [
    "print(MCP_double_ensemble(outputs_test, outputs_ood1, labs))\n",
    "print(MCP_double_ensemble(outputs_test, outputs_ood2, labs))"
   ]
  },
  {
   "cell_type": "code",
   "execution_count": 40,
   "id": "2ed1ed1b",
   "metadata": {},
   "outputs": [],
   "source": [
    "def Entropy_double(outputs, oods, labels):\n",
    "    probas = (outputs/np.sum(outputs, axis = 1).reshape(-1, 1))\n",
    "    miss = (1-(np.argmax(probas, axis = 1) == labels))\n",
    "    miss_index = [index for index in range(outputs.shape[0]) if miss[index] == 1]\n",
    "    miss_need = 10000-len(miss_index)\n",
    "    miss_choice = miss_need//len(miss_index)\n",
    "    if miss_choice > 0:\n",
    "        new_outputs = outputs.copy()\n",
    "        for i in miss_index:\n",
    "            new_outputs = np.concatenate((outputs, np.repeat(outputs[miss_index], miss_choice, axis = 0)), axis = 0)\n",
    "        new_outputs = np.concatenate((new_outputs, oods), axis = 0)\n",
    "        new_miss = np.concatenate((miss, np.ones(oods.shape[0]+len(miss_index)*miss_choice)))\n",
    "        new_probas = (new_outputs/np.sum(new_outputs, axis = 1).reshape(-1, 1))\n",
    "        entropies = entropy(new_probas, axis = 1)\n",
    "        fpr, tpr, thresholds = metrics.roc_curve(new_miss, entropies, pos_label=1)\n",
    "        return(np.round(100*metrics.auc(fpr, tpr), 1))\n",
    "    else:\n",
    "        print('Unexpected distribution...')\n",
    "        return()"
   ]
  },
  {
   "cell_type": "code",
   "execution_count": 41,
   "id": "13ca05cd",
   "metadata": {},
   "outputs": [
    {
     "name": "stdout",
     "output_type": "stream",
     "text": [
      "91.4\n",
      "91.2\n",
      "91.3\n",
      "91.1\n"
     ]
    }
   ],
   "source": [
    "print(Entropy_double(eot_classic, eo1_classic, labs))\n",
    "print(Entropy_double(eot_classic, eo2_classic, labs))\n",
    "print(Entropy_double(ensemble_outputs_test, ensemble_outputs_ood1, labs))\n",
    "print(Entropy_double(ensemble_outputs_test, ensemble_outputs_ood2, labs))"
   ]
  },
  {
   "cell_type": "code",
   "execution_count": 42,
   "id": "f9dd0db6",
   "metadata": {},
   "outputs": [],
   "source": [
    "def Entropy_double_ensemble(outputs, oods, labels):\n",
    "    MCPs = []\n",
    "    for i in range(len(outputs)):\n",
    "        MCP_model = Entropy_double(outputs[i], oods[i], labels)\n",
    "        MCPs.append(MCP_model)\n",
    "    print('Average:',  np.round(np.mean(MCPs),1), '\\n')\n",
    "    return(MCPs)"
   ]
  },
  {
   "cell_type": "code",
   "execution_count": 43,
   "id": "3e098c43",
   "metadata": {},
   "outputs": [
    {
     "name": "stdout",
     "output_type": "stream",
     "text": [
      "Average: 85.4 \n",
      "\n",
      "[84.9, 84.8, 85.4, 85.9, 85.5, 85.5, 85.8, 85.4, 85.4, 85.2]\n",
      "Average: 85.4 \n",
      "\n",
      "[84.8, 84.8, 85.4, 85.9, 85.5, 85.4, 85.5, 85.1, 85.6, 85.5]\n"
     ]
    }
   ],
   "source": [
    "print(Entropy_double_ensemble(outputs_test, outputs_ood1, labs))\n",
    "print(Entropy_double_ensemble(outputs_test, outputs_ood2, labs))"
   ]
  },
  {
   "cell_type": "code",
   "execution_count": 44,
   "id": "9ca25568",
   "metadata": {},
   "outputs": [],
   "source": [
    "def Alpha_double(outputs, oods, labels):\n",
    "    probas = (outputs/np.sum(outputs, axis = 1).reshape(-1, 1))\n",
    "    miss = (1-(np.argmax(probas, axis = 1) == labels))\n",
    "    miss_index = [index for index in range(outputs.shape[0]) if miss[index] == 1]\n",
    "    miss_need = 10000-len(miss_index)\n",
    "    miss_choice = miss_need//len(miss_index)\n",
    "    if miss_choice > 0:\n",
    "        new_outputs = outputs.copy()\n",
    "        for i in miss_index:\n",
    "            new_outputs = np.concatenate((outputs, np.repeat(outputs[miss_index], miss_choice, axis = 0)), axis = 0)\n",
    "        new_outputs = np.concatenate((new_outputs, oods), axis = 0)\n",
    "        new_miss = np.concatenate((miss, np.ones(oods.shape[0]+len(miss_index)*miss_choice)))\n",
    "        new_probas = (new_outputs/np.sum(new_outputs, axis = 1).reshape(-1, 1))\n",
    "        Alphas = np.sum(new_outputs, axis = 1)\n",
    "        fpr, tpr, thresholds = metrics.roc_curve(new_miss, -Alphas, pos_label=1)\n",
    "        return(np.round(100*metrics.auc(fpr, tpr), 1))\n",
    "    else:\n",
    "        print('Unexpected distribution...')\n",
    "        return()"
   ]
  },
  {
   "cell_type": "code",
   "execution_count": 45,
   "id": "e1f1364a",
   "metadata": {},
   "outputs": [
    {
     "name": "stdout",
     "output_type": "stream",
     "text": [
      "81.1\n",
      "81.9\n",
      "90.4\n",
      "90.1\n"
     ]
    }
   ],
   "source": [
    "print(Alpha_double(eot_classic, eo1_classic, labs))\n",
    "print(Alpha_double(eot_classic, eo2_classic, labs))\n",
    "print(Alpha_double(ensemble_outputs_test, ensemble_outputs_ood1, labs))\n",
    "print(Alpha_double(ensemble_outputs_test, ensemble_outputs_ood2, labs))"
   ]
  },
  {
   "cell_type": "code",
   "execution_count": 46,
   "id": "ab3c6fe9",
   "metadata": {},
   "outputs": [],
   "source": [
    "def Alpha_double_ensemble(outputs, oods, labels):\n",
    "    MCPs = []\n",
    "    for i in range(len(outputs)):\n",
    "        MCP_model = Alpha_double(outputs[i], oods[i], labels)\n",
    "        MCPs.append(MCP_model)\n",
    "    print('Average:',  np.round(np.mean(MCPs),1), '\\n')\n",
    "    return(MCPs)"
   ]
  },
  {
   "cell_type": "code",
   "execution_count": 47,
   "id": "373ccc58",
   "metadata": {},
   "outputs": [
    {
     "name": "stdout",
     "output_type": "stream",
     "text": [
      "Average: 72.2 \n",
      "\n",
      "[72.2, 71.0, 72.7, 71.8, 73.7, 69.7, 74.6, 71.8, 73.5, 71.0]\n",
      "Average: 73.2 \n",
      "\n",
      "[72.9, 72.1, 73.5, 73.0, 74.5, 70.6, 75.2, 72.3, 74.9, 72.5]\n"
     ]
    }
   ],
   "source": [
    "print(Alpha_double_ensemble(outputs_test, outputs_ood1, labs))\n",
    "print(Alpha_double_ensemble(outputs_test, outputs_ood2, labs))"
   ]
  },
  {
   "cell_type": "code",
   "execution_count": 48,
   "id": "adaa4019",
   "metadata": {},
   "outputs": [],
   "source": [
    "def MI_double(outputs, oods, labels):\n",
    "    probas = (outputs/np.sum(outputs, axis = 1).reshape(-1, 1))\n",
    "    miss = (1-(np.argmax(probas, axis = 1) == labels))\n",
    "    miss_index = [index for index in range(outputs.shape[0]) if miss[index] == 1]\n",
    "    miss_need = 10000-len(miss_index)\n",
    "    miss_choice = miss_need//len(miss_index)\n",
    "    if miss_choice > 0:\n",
    "        new_outputs = outputs.copy()\n",
    "        for i in miss_index:\n",
    "            new_outputs = np.concatenate((outputs, np.repeat(outputs[miss_index], miss_choice, axis = 0)), axis = 0)\n",
    "        new_outputs = np.concatenate((new_outputs, oods), axis = 0)\n",
    "        new_miss = np.concatenate((miss, np.ones(oods.shape[0]+len(miss_index)*miss_choice)))\n",
    "        new_probas = (new_outputs/np.sum(new_outputs, axis = 1).reshape(-1, 1))\n",
    "        Alphas = np.sum(new_outputs, axis = 1)\n",
    "        MutInfo = np.sum(new_outputs/Alphas.reshape(-1,1)*(np.log(new_outputs/Alphas.reshape(-1,1))\\\n",
    "                                                         -digamma(new_outputs+1)\\\n",
    "                                                         +digamma(Alphas.reshape(-1,1))+1), axis = 1)\n",
    "        fpr, tpr, thresholds = metrics.roc_curve(new_miss, -MutInfo, pos_label=1)\n",
    "        return(np.round(100*metrics.auc(fpr, tpr), 1))\n",
    "    else:\n",
    "        print('Unexpected distribution...')\n",
    "        return()"
   ]
  },
  {
   "cell_type": "code",
   "execution_count": 49,
   "id": "083b5062",
   "metadata": {},
   "outputs": [
    {
     "name": "stdout",
     "output_type": "stream",
     "text": [
      "83.3\n",
      "83.9\n",
      "90.5\n",
      "90.2\n"
     ]
    }
   ],
   "source": [
    "print(MI_double(eot_classic, eo1_classic, labs))\n",
    "print(MI_double(eot_classic, eo2_classic, labs))\n",
    "print(MI_double(ensemble_outputs_test, ensemble_outputs_ood1, labs))\n",
    "print(MI_double(ensemble_outputs_test, ensemble_outputs_ood2, labs))"
   ]
  },
  {
   "cell_type": "code",
   "execution_count": 50,
   "id": "4980bbd0",
   "metadata": {},
   "outputs": [],
   "source": [
    "def MI_double_ensemble(outputs, oods, labels):\n",
    "    MCPs = []\n",
    "    for i in range(len(outputs)):\n",
    "        MCP_model = MI_double(outputs[i], oods[i], labels)\n",
    "        MCPs.append(MCP_model)\n",
    "    print('Average:',  np.round(np.mean(MCPs),1), '\\n')\n",
    "    return(MCPs)"
   ]
  },
  {
   "cell_type": "code",
   "execution_count": 51,
   "id": "1aff7356",
   "metadata": {},
   "outputs": [
    {
     "name": "stdout",
     "output_type": "stream",
     "text": [
      "Average: 73.5 \n",
      "\n",
      "[73.5, 72.4, 74.0, 73.0, 74.9, 71.4, 75.9, 73.2, 74.8, 72.3]\n",
      "Average: 74.4 \n",
      "\n",
      "[74.2, 73.3, 74.7, 74.2, 75.7, 72.1, 76.5, 73.6, 76.0, 73.8]\n"
     ]
    }
   ],
   "source": [
    "print(MI_double_ensemble(outputs_test, outputs_ood1, labs))\n",
    "print(MI_double_ensemble(outputs_test, outputs_ood2, labs))"
   ]
  },
  {
   "cell_type": "code",
   "execution_count": 52,
   "id": "b561a6a7",
   "metadata": {},
   "outputs": [],
   "source": [
    "def KLoS_double(outputs, oods, labels):\n",
    "    probas = (outputs/np.sum(outputs, axis = 1).reshape(-1, 1))\n",
    "    miss = (1-(np.argmax(probas, axis = 1) == labels))\n",
    "    miss_index = [index for index in range(outputs.shape[0]) if miss[index] == 1]\n",
    "    miss_need = 10000-len(miss_index)\n",
    "    miss_choice = miss_need//len(miss_index)\n",
    "    if miss_choice > 0:\n",
    "        new_outputs = outputs.copy()\n",
    "        for i in miss_index:\n",
    "            new_outputs = np.concatenate((outputs, np.repeat(outputs[miss_index], miss_choice, axis = 0)), axis = 0)\n",
    "        new_outputs = np.concatenate((new_outputs, oods), axis = 0)\n",
    "        new_miss = np.concatenate((miss, np.ones(oods.shape[0]+len(miss_index)*miss_choice)))\n",
    "        new_probas = (new_outputs/np.sum(new_outputs, axis = 1).reshape(-1, 1))\n",
    "        predicted_labs = np.argmax(new_probas, axis = 1)\n",
    "        pred_dists = beta*np.eye(10)[predicted_labs.astype('int')]+1\n",
    "        KLoSs = kl_div_dirichlet(torch.tensor(new_outputs), torch.tensor(pred_dists))\n",
    "        fpr, tpr, thresholds = metrics.roc_curve(new_miss, KLoSs, pos_label=1)\n",
    "        return(np.round(100*metrics.auc(fpr, tpr), 1))\n",
    "    else:\n",
    "        print('Unexpected distribution...')\n",
    "        return()"
   ]
  },
  {
   "cell_type": "code",
   "execution_count": 53,
   "id": "aa1a8839",
   "metadata": {},
   "outputs": [
    {
     "name": "stdout",
     "output_type": "stream",
     "text": [
      "92.6\n",
      "92.3\n",
      "92.6\n",
      "92.3\n"
     ]
    }
   ],
   "source": [
    "print(KLoS_double(eot_classic, eo1_classic, labs))\n",
    "print(KLoS_double(eot_classic, eo2_classic, labs))\n",
    "print(KLoS_double(ensemble_outputs_test, ensemble_outputs_ood1, labs))\n",
    "print(KLoS_double(ensemble_outputs_test, ensemble_outputs_ood2, labs))"
   ]
  },
  {
   "cell_type": "code",
   "execution_count": 54,
   "id": "732250f4",
   "metadata": {},
   "outputs": [],
   "source": [
    "def KLoS_double_ensemble(outputs, oods, labels):\n",
    "    MCPs = []\n",
    "    for i in range(len(outputs)):\n",
    "        MCP_model = KLoS_double(outputs[i], oods[i], labels)\n",
    "        MCPs.append(MCP_model)\n",
    "    print('Average:',  np.round(np.mean(MCPs),1), '\\n')\n",
    "    return(MCPs)"
   ]
  },
  {
   "cell_type": "code",
   "execution_count": 55,
   "id": "228817e1",
   "metadata": {
    "scrolled": true
   },
   "outputs": [
    {
     "name": "stdout",
     "output_type": "stream",
     "text": [
      "Average: 90.7 \n",
      "\n",
      "[90.6, 89.9, 90.7, 91.0, 90.9, 90.6, 90.8, 90.8, 90.9, 90.7]\n",
      "Average: 90.4 \n",
      "\n",
      "[90.3, 89.7, 90.5, 90.7, 90.6, 90.4, 90.5, 90.6, 90.7, 90.5]\n"
     ]
    }
   ],
   "source": [
    "print(KLoS_double_ensemble(outputs_test, outputs_ood1, labs))\n",
    "print(KLoS_double_ensemble(outputs_test, outputs_ood2, labs))"
   ]
  },
  {
   "cell_type": "markdown",
   "id": "c7b394fd",
   "metadata": {},
   "source": [
    "## Information Mutuelle d'un ensemble"
   ]
  },
  {
   "cell_type": "code",
   "execution_count": 56,
   "id": "04470dac",
   "metadata": {},
   "outputs": [],
   "source": [
    "probas_test = [(output/np.sum(output, axis = 1).reshape(-1, 1)) for output in outputs_test]\n",
    "probas_test_mean = np.mean(probas_test, axis = 0)\n",
    "entropies_test = []\n",
    "for proba in probas_test:\n",
    "    entropies_test.append(entropy(proba, axis = 1))\n",
    "miss_mi_test = 1-(np.argmax(probas_test_mean, axis = 1) == labs)"
   ]
  },
  {
   "cell_type": "code",
   "execution_count": 57,
   "id": "705f26b7",
   "metadata": {},
   "outputs": [
    {
     "name": "stdout",
     "output_type": "stream",
     "text": [
      "93.0\n"
     ]
    }
   ],
   "source": [
    "mutinf_ens_test = entropy(probas_test_mean, axis = 1) - np.mean(entropies_test, axis = 0)\n",
    "fpr, tpr, thresholds = metrics.roc_curve(miss_mi_test, mutinf_ens_test , pos_label=1)\n",
    "mutinfN_ens_test = metrics.auc(fpr, tpr)\n",
    "print(np.round(100*mutinfN_ens_test,1))"
   ]
  },
  {
   "cell_type": "code",
   "execution_count": 58,
   "id": "4927051f",
   "metadata": {},
   "outputs": [],
   "source": [
    "outputs_mi_ood1 = np.concatenate((outputs_test, outputs_ood1), axis = 1)"
   ]
  },
  {
   "cell_type": "code",
   "execution_count": 59,
   "id": "6cec5302",
   "metadata": {},
   "outputs": [
    {
     "name": "stdout",
     "output_type": "stream",
     "text": [
      "89.5\n"
     ]
    }
   ],
   "source": [
    "probas_ood1 = [(output/np.sum(output, axis = 1).reshape(-1, 1)) for output in outputs_mi_ood1]\n",
    "probas_ood1_mean = np.mean(probas_ood1, axis = 0)\n",
    "entropies_ood1 = []\n",
    "for proba in probas_ood1:\n",
    "    entropies_ood1.append(entropy(proba, axis = 1))\n",
    "miss_mi_ood1 = np.concatenate((np.zeros(10000), np.ones(10000)))\n",
    "mutinf_ens_ood1 = entropy(probas_ood1_mean, axis = 1) - np.mean(entropies_ood1, axis = 0)\n",
    "fpr, tpr, thresholds = metrics.roc_curve(miss_mi_ood1, mutinf_ens_ood1 , pos_label=1)\n",
    "mutinfN_ens_ood1 = metrics.auc(fpr, tpr)\n",
    "print(np.round(100*mutinfN_ens_ood1,1))"
   ]
  },
  {
   "cell_type": "code",
   "execution_count": 60,
   "id": "4679b57d",
   "metadata": {},
   "outputs": [],
   "source": [
    "outputs_mi_ood2 = np.concatenate((outputs_test, outputs_ood2), axis = 1)"
   ]
  },
  {
   "cell_type": "code",
   "execution_count": 61,
   "id": "1b125199",
   "metadata": {},
   "outputs": [
    {
     "name": "stdout",
     "output_type": "stream",
     "text": [
      "89.0\n"
     ]
    }
   ],
   "source": [
    "probas_ood2 = [(output/np.sum(output, axis = 1).reshape(-1, 1)) for output in outputs_mi_ood2]\n",
    "probas_ood2_mean = np.mean(probas_ood2, axis = 0)\n",
    "entropies_ood2 = []\n",
    "for proba in probas_ood2:\n",
    "    entropies_ood2.append(entropy(proba, axis = 1))\n",
    "miss_mi_ood2 = np.concatenate((np.zeros(10000), np.ones(10000)))\n",
    "mutinf_ens_ood2 = entropy(probas_ood2_mean, axis = 1) - np.mean(entropies_ood2, axis = 0)\n",
    "fpr, tpr, thresholds = metrics.roc_curve(miss_mi_ood2, mutinf_ens_ood2 , pos_label=1)\n",
    "mutinfN_ens_ood2 = metrics.auc(fpr, tpr)\n",
    "print(np.round(100*mutinfN_ens_ood2,1))"
   ]
  },
  {
   "cell_type": "code",
   "execution_count": 62,
   "id": "0effefc5",
   "metadata": {},
   "outputs": [],
   "source": [
    "probas_MI = np.mean([(output/np.sum(output, axis = 1).reshape(-1, 1)) for output in outputs_test], axis = 0)"
   ]
  },
  {
   "cell_type": "code",
   "execution_count": 63,
   "id": "e6fe37d1",
   "metadata": {},
   "outputs": [],
   "source": [
    "miss1 = (1-(np.argmax(probas_MI, axis = 1) == labs))\n",
    "miss_index1 = [index for index in range(10000) if miss1[index] == 1]\n",
    "miss_need1 = 10000-len(miss_index1)\n",
    "miss_choice1 = miss_need1//len(miss_index1)\n",
    "if miss_choice1 > 0:\n",
    "    new_miss1 = np.concatenate((miss1, np.ones(outputs_ood1[0].shape[0]+len(miss_index1)*miss_choice1)))\n",
    "    new_outputs1 = []\n",
    "    for m in range(10):\n",
    "        outputs = outputs_test[m].copy()\n",
    "        oods = outputs_ood1[m].copy()\n",
    "        new_outputs = outputs.copy()\n",
    "        for i in miss_index1:\n",
    "            new_outputs = np.concatenate((outputs, np.repeat(outputs[miss_index1], miss_choice1, axis = 0)), axis = 0)\n",
    "            new_outputs = np.concatenate((new_outputs, oods), axis = 0)\n",
    "            new_probas1 = (new_outputs/np.sum(new_outputs, axis = 1).reshape(-1, 1))\n",
    "        new_outputs1.append(new_outputs)"
   ]
  },
  {
   "cell_type": "code",
   "execution_count": 64,
   "id": "97f9bebd",
   "metadata": {},
   "outputs": [],
   "source": [
    "new_probas_MI1 = [(output/np.sum(output, axis = 1).reshape(-1, 1)) for output in new_outputs1]"
   ]
  },
  {
   "cell_type": "code",
   "execution_count": 65,
   "id": "1808df6e",
   "metadata": {},
   "outputs": [],
   "source": [
    "mean_probas_MI1 = np.mean(new_probas_MI1, axis = 0)"
   ]
  },
  {
   "cell_type": "code",
   "execution_count": 66,
   "id": "db014e1d",
   "metadata": {},
   "outputs": [],
   "source": [
    "entropies_ood1_EN = []\n",
    "for proba in new_probas_MI1:\n",
    "    entropies_ood1_EN.append(entropy(proba, axis = 1))"
   ]
  },
  {
   "cell_type": "code",
   "execution_count": 67,
   "id": "67cefb4c",
   "metadata": {},
   "outputs": [
    {
     "name": "stdout",
     "output_type": "stream",
     "text": [
      "92.3\n"
     ]
    }
   ],
   "source": [
    "mutinf_ens_ood1_EN = entropy(mean_probas_MI1, axis = 1) - np.mean(entropies_ood1_EN, axis = 0)\n",
    "fpr, tpr, thresholds = metrics.roc_curve(new_miss1, mutinf_ens_ood1_EN , pos_label=1)\n",
    "mutinfN_ens_ood1_EN = metrics.auc(fpr, tpr)\n",
    "print(np.round(100*mutinfN_ens_ood1_EN,1))"
   ]
  },
  {
   "cell_type": "code",
   "execution_count": 68,
   "id": "93d907ba",
   "metadata": {},
   "outputs": [],
   "source": [
    "miss2 = (1-(np.argmax(probas_MI, axis = 1) == labs))\n",
    "miss_index2 = [index for index in range(10000) if miss2[index] == 1]\n",
    "miss_need2 = 10000-len(miss_index2)\n",
    "miss_choice2 = miss_need2//len(miss_index2)\n",
    "if miss_choice2 > 0:\n",
    "    new_miss2 = np.concatenate((miss2, np.ones(outputs_ood2[0].shape[0]+len(miss_index2)*miss_choice2)))\n",
    "    new_outputs2 = []\n",
    "    for m in range(10):\n",
    "        outputs = outputs_test[m].copy()\n",
    "        oods = outputs_ood2[m].copy()\n",
    "        new_outputs = outputs.copy()\n",
    "        for i in miss_index2:\n",
    "            new_outputs = np.concatenate((outputs, np.repeat(outputs[miss_index2], miss_choice2, axis = 0)), axis = 0)\n",
    "            new_outputs = np.concatenate((new_outputs, oods), axis = 0)\n",
    "            new_probas2 = (new_outputs/np.sum(new_outputs, axis = 1).reshape(-1, 1))\n",
    "        new_outputs2.append(new_outputs)"
   ]
  },
  {
   "cell_type": "code",
   "execution_count": 69,
   "id": "3fcebf09",
   "metadata": {},
   "outputs": [],
   "source": [
    "new_probas_MI2 = [(output/np.sum(output, axis = 1).reshape(-1, 1)) for output in new_outputs2]"
   ]
  },
  {
   "cell_type": "code",
   "execution_count": 70,
   "id": "ca6a9b20",
   "metadata": {},
   "outputs": [],
   "source": [
    "mean_probas_MI2 = np.mean(new_probas_MI2, axis = 0)"
   ]
  },
  {
   "cell_type": "code",
   "execution_count": 71,
   "id": "dcda4624",
   "metadata": {},
   "outputs": [],
   "source": [
    "entropies_ood2_EN = []\n",
    "for proba in new_probas_MI2:\n",
    "    entropies_ood2_EN.append(entropy(proba, axis = 1))"
   ]
  },
  {
   "cell_type": "code",
   "execution_count": 72,
   "id": "202c8392",
   "metadata": {},
   "outputs": [
    {
     "name": "stdout",
     "output_type": "stream",
     "text": [
      "92.0\n"
     ]
    }
   ],
   "source": [
    "mutinf_ens_ood2_EN = entropy(mean_probas_MI2, axis = 1) - np.mean(entropies_ood2_EN, axis = 0)\n",
    "fpr, tpr, thresholds = metrics.roc_curve(new_miss2, mutinf_ens_ood2_EN , pos_label=1)\n",
    "mutinfN_ens_ood2_EN = metrics.auc(fpr, tpr)\n",
    "print(np.round(100*mutinfN_ens_ood2_EN,1))"
   ]
  }
 ],
 "metadata": {
  "kernelspec": {
   "display_name": "Python 3 (ipykernel)",
   "language": "python",
   "name": "python3"
  },
  "language_info": {
   "codemirror_mode": {
    "name": "ipython",
    "version": 3
   },
   "file_extension": ".py",
   "mimetype": "text/x-python",
   "name": "python",
   "nbconvert_exporter": "python",
   "pygments_lexer": "ipython3",
   "version": "3.8.11"
  }
 },
 "nbformat": 4,
 "nbformat_minor": 5
}
